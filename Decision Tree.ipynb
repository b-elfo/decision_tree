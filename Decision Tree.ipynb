{
 "cells": [
  {
   "cell_type": "code",
   "execution_count": 8,
   "id": "bd401e3b",
   "metadata": {},
   "outputs": [],
   "source": [
    "import os\n",
    "\n",
    "import numpy as np\n",
    "import pandas as pd\n",
    "import matplotlib.pyplot as plt\n"
   ]
  },
  {
   "cell_type": "code",
   "execution_count": 9,
   "id": "efea1d2a",
   "metadata": {},
   "outputs": [],
   "source": [
    "\n",
    "import torch\n",
    "\n",
    "from data import get_data"
   ]
  },
  {
   "cell_type": "code",
   "execution_count": 10,
   "id": "020baec8",
   "metadata": {},
   "outputs": [],
   "source": [
    "# df = pd.DataFrame([[1,True,'Yes'],[2,True,'Yes'],[3,False,'No'],[4,True,'No'],[5,False,'Yes'],\n",
    "#                    [6,False,'No'],[7,True,'Yes'],[8,False,'No'],[9,True,'No'],[10,True,'Yes'],\n",
    "#                    ],\n",
    "#                    columns=['num','income_over_1000','tv_at_home'])\n",
    "# df.head()\n",
    "# goal_label = 'tv_at_home'"
   ]
  },
  {
   "cell_type": "code",
   "execution_count": 11,
   "id": "243212b5",
   "metadata": {},
   "outputs": [],
   "source": [
    "# df = get_data('drug200.csv')\n",
    "# goal_label = 'Drug'"
   ]
  },
  {
   "cell_type": "code",
   "execution_count": 13,
   "id": "bd7969e8",
   "metadata": {},
   "outputs": [],
   "source": [
    "df = get_data('titanic/train.csv')\n",
    "df = df.drop(labels=['Name','Ticket'], axis=1)\n",
    "goal_label = 'Survived'\n"
   ]
  },
  {
   "cell_type": "code",
   "execution_count": null,
   "id": "4043c3c0",
   "metadata": {},
   "outputs": [],
   "source": []
  },
  {
   "cell_type": "code",
   "execution_count": 14,
   "id": "4ab441f4",
   "metadata": {},
   "outputs": [
    {
     "data": {
      "text/plain": [
       "891"
      ]
     },
     "execution_count": 14,
     "metadata": {},
     "output_type": "execute_result"
    }
   ],
   "source": [
    "len(df)"
   ]
  },
  {
   "cell_type": "code",
   "execution_count": 15,
   "id": "7570ac0d",
   "metadata": {},
   "outputs": [
    {
     "data": {
      "text/plain": [
       "891"
      ]
     },
     "execution_count": 15,
     "metadata": {},
     "output_type": "execute_result"
    }
   ],
   "source": [
    "df.dropna()\n",
    "len(df)"
   ]
  },
  {
   "cell_type": "code",
   "execution_count": 16,
   "id": "8e5466d5",
   "metadata": {},
   "outputs": [],
   "source": [
    "unique_vals = {}\n",
    "for col in df.columns:\n",
    "    if col == 'id':\n",
    "        continue\n",
    "    col_df = df[col]\n",
    "    unique_vals[col] = col_df.unique()"
   ]
  },
  {
   "cell_type": "code",
   "execution_count": 17,
   "id": "8aeb84d4",
   "metadata": {
    "scrolled": true
   },
   "outputs": [
    {
     "data": {
      "text/plain": [
       "dict_keys(['PassengerId', 'Survived', 'Pclass', 'Sex', 'Age', 'SibSp', 'Parch', 'Fare', 'Cabin', 'Embarked'])"
      ]
     },
     "execution_count": 17,
     "metadata": {},
     "output_type": "execute_result"
    }
   ],
   "source": [
    "unique_vals.keys()"
   ]
  },
  {
   "cell_type": "code",
   "execution_count": 18,
   "id": "3dfb6e58",
   "metadata": {},
   "outputs": [],
   "source": [
    "input_data = df[[key for key in unique_vals.keys() if key != goal_label]].copy()\n",
    "labels = df[[goal_label]].copy"
   ]
  },
  {
   "cell_type": "code",
   "execution_count": 19,
   "id": "ac1f45e7",
   "metadata": {},
   "outputs": [
    {
     "data": {
      "text/html": [
       "<div>\n",
       "<style scoped>\n",
       "    .dataframe tbody tr th:only-of-type {\n",
       "        vertical-align: middle;\n",
       "    }\n",
       "\n",
       "    .dataframe tbody tr th {\n",
       "        vertical-align: top;\n",
       "    }\n",
       "\n",
       "    .dataframe thead th {\n",
       "        text-align: right;\n",
       "    }\n",
       "</style>\n",
       "<table border=\"1\" class=\"dataframe\">\n",
       "  <thead>\n",
       "    <tr style=\"text-align: right;\">\n",
       "      <th></th>\n",
       "      <th>PassengerId</th>\n",
       "      <th>Pclass</th>\n",
       "      <th>Sex</th>\n",
       "      <th>Age</th>\n",
       "      <th>SibSp</th>\n",
       "      <th>Parch</th>\n",
       "      <th>Fare</th>\n",
       "      <th>Cabin</th>\n",
       "      <th>Embarked</th>\n",
       "    </tr>\n",
       "  </thead>\n",
       "  <tbody>\n",
       "    <tr>\n",
       "      <th>0</th>\n",
       "      <td>1</td>\n",
       "      <td>3</td>\n",
       "      <td>male</td>\n",
       "      <td>22.0</td>\n",
       "      <td>1</td>\n",
       "      <td>0</td>\n",
       "      <td>7.2500</td>\n",
       "      <td>NaN</td>\n",
       "      <td>S</td>\n",
       "    </tr>\n",
       "    <tr>\n",
       "      <th>1</th>\n",
       "      <td>2</td>\n",
       "      <td>1</td>\n",
       "      <td>female</td>\n",
       "      <td>38.0</td>\n",
       "      <td>1</td>\n",
       "      <td>0</td>\n",
       "      <td>71.2833</td>\n",
       "      <td>C85</td>\n",
       "      <td>C</td>\n",
       "    </tr>\n",
       "    <tr>\n",
       "      <th>2</th>\n",
       "      <td>3</td>\n",
       "      <td>3</td>\n",
       "      <td>female</td>\n",
       "      <td>26.0</td>\n",
       "      <td>0</td>\n",
       "      <td>0</td>\n",
       "      <td>7.9250</td>\n",
       "      <td>NaN</td>\n",
       "      <td>S</td>\n",
       "    </tr>\n",
       "    <tr>\n",
       "      <th>3</th>\n",
       "      <td>4</td>\n",
       "      <td>1</td>\n",
       "      <td>female</td>\n",
       "      <td>35.0</td>\n",
       "      <td>1</td>\n",
       "      <td>0</td>\n",
       "      <td>53.1000</td>\n",
       "      <td>C123</td>\n",
       "      <td>S</td>\n",
       "    </tr>\n",
       "    <tr>\n",
       "      <th>4</th>\n",
       "      <td>5</td>\n",
       "      <td>3</td>\n",
       "      <td>male</td>\n",
       "      <td>35.0</td>\n",
       "      <td>0</td>\n",
       "      <td>0</td>\n",
       "      <td>8.0500</td>\n",
       "      <td>NaN</td>\n",
       "      <td>S</td>\n",
       "    </tr>\n",
       "    <tr>\n",
       "      <th>...</th>\n",
       "      <td>...</td>\n",
       "      <td>...</td>\n",
       "      <td>...</td>\n",
       "      <td>...</td>\n",
       "      <td>...</td>\n",
       "      <td>...</td>\n",
       "      <td>...</td>\n",
       "      <td>...</td>\n",
       "      <td>...</td>\n",
       "    </tr>\n",
       "    <tr>\n",
       "      <th>886</th>\n",
       "      <td>887</td>\n",
       "      <td>2</td>\n",
       "      <td>male</td>\n",
       "      <td>27.0</td>\n",
       "      <td>0</td>\n",
       "      <td>0</td>\n",
       "      <td>13.0000</td>\n",
       "      <td>NaN</td>\n",
       "      <td>S</td>\n",
       "    </tr>\n",
       "    <tr>\n",
       "      <th>887</th>\n",
       "      <td>888</td>\n",
       "      <td>1</td>\n",
       "      <td>female</td>\n",
       "      <td>19.0</td>\n",
       "      <td>0</td>\n",
       "      <td>0</td>\n",
       "      <td>30.0000</td>\n",
       "      <td>B42</td>\n",
       "      <td>S</td>\n",
       "    </tr>\n",
       "    <tr>\n",
       "      <th>888</th>\n",
       "      <td>889</td>\n",
       "      <td>3</td>\n",
       "      <td>female</td>\n",
       "      <td>NaN</td>\n",
       "      <td>1</td>\n",
       "      <td>2</td>\n",
       "      <td>23.4500</td>\n",
       "      <td>NaN</td>\n",
       "      <td>S</td>\n",
       "    </tr>\n",
       "    <tr>\n",
       "      <th>889</th>\n",
       "      <td>890</td>\n",
       "      <td>1</td>\n",
       "      <td>male</td>\n",
       "      <td>26.0</td>\n",
       "      <td>0</td>\n",
       "      <td>0</td>\n",
       "      <td>30.0000</td>\n",
       "      <td>C148</td>\n",
       "      <td>C</td>\n",
       "    </tr>\n",
       "    <tr>\n",
       "      <th>890</th>\n",
       "      <td>891</td>\n",
       "      <td>3</td>\n",
       "      <td>male</td>\n",
       "      <td>32.0</td>\n",
       "      <td>0</td>\n",
       "      <td>0</td>\n",
       "      <td>7.7500</td>\n",
       "      <td>NaN</td>\n",
       "      <td>Q</td>\n",
       "    </tr>\n",
       "  </tbody>\n",
       "</table>\n",
       "<p>891 rows × 9 columns</p>\n",
       "</div>"
      ],
      "text/plain": [
       "     PassengerId  Pclass     Sex   Age  SibSp  Parch     Fare Cabin Embarked\n",
       "0              1       3    male  22.0      1      0   7.2500   NaN        S\n",
       "1              2       1  female  38.0      1      0  71.2833   C85        C\n",
       "2              3       3  female  26.0      0      0   7.9250   NaN        S\n",
       "3              4       1  female  35.0      1      0  53.1000  C123        S\n",
       "4              5       3    male  35.0      0      0   8.0500   NaN        S\n",
       "..           ...     ...     ...   ...    ...    ...      ...   ...      ...\n",
       "886          887       2    male  27.0      0      0  13.0000   NaN        S\n",
       "887          888       1  female  19.0      0      0  30.0000   B42        S\n",
       "888          889       3  female   NaN      1      2  23.4500   NaN        S\n",
       "889          890       1    male  26.0      0      0  30.0000  C148        C\n",
       "890          891       3    male  32.0      0      0   7.7500   NaN        Q\n",
       "\n",
       "[891 rows x 9 columns]"
      ]
     },
     "execution_count": 19,
     "metadata": {},
     "output_type": "execute_result"
    }
   ],
   "source": [
    "input_data"
   ]
  },
  {
   "cell_type": "code",
   "execution_count": 20,
   "id": "43d02b88",
   "metadata": {},
   "outputs": [
    {
     "data": {
      "text/html": [
       "<div>\n",
       "<style scoped>\n",
       "    .dataframe tbody tr th:only-of-type {\n",
       "        vertical-align: middle;\n",
       "    }\n",
       "\n",
       "    .dataframe tbody tr th {\n",
       "        vertical-align: top;\n",
       "    }\n",
       "\n",
       "    .dataframe thead th {\n",
       "        text-align: right;\n",
       "    }\n",
       "</style>\n",
       "<table border=\"1\" class=\"dataframe\">\n",
       "  <thead>\n",
       "    <tr style=\"text-align: right;\">\n",
       "      <th></th>\n",
       "      <th>Survived</th>\n",
       "    </tr>\n",
       "  </thead>\n",
       "  <tbody>\n",
       "    <tr>\n",
       "      <th>0</th>\n",
       "      <td>0</td>\n",
       "    </tr>\n",
       "    <tr>\n",
       "      <th>1</th>\n",
       "      <td>1</td>\n",
       "    </tr>\n",
       "    <tr>\n",
       "      <th>2</th>\n",
       "      <td>1</td>\n",
       "    </tr>\n",
       "    <tr>\n",
       "      <th>3</th>\n",
       "      <td>1</td>\n",
       "    </tr>\n",
       "    <tr>\n",
       "      <th>4</th>\n",
       "      <td>0</td>\n",
       "    </tr>\n",
       "    <tr>\n",
       "      <th>...</th>\n",
       "      <td>...</td>\n",
       "    </tr>\n",
       "    <tr>\n",
       "      <th>886</th>\n",
       "      <td>0</td>\n",
       "    </tr>\n",
       "    <tr>\n",
       "      <th>887</th>\n",
       "      <td>1</td>\n",
       "    </tr>\n",
       "    <tr>\n",
       "      <th>888</th>\n",
       "      <td>0</td>\n",
       "    </tr>\n",
       "    <tr>\n",
       "      <th>889</th>\n",
       "      <td>1</td>\n",
       "    </tr>\n",
       "    <tr>\n",
       "      <th>890</th>\n",
       "      <td>0</td>\n",
       "    </tr>\n",
       "  </tbody>\n",
       "</table>\n",
       "<p>891 rows × 1 columns</p>\n",
       "</div>"
      ],
      "text/plain": [
       "     Survived\n",
       "0           0\n",
       "1           1\n",
       "2           1\n",
       "3           1\n",
       "4           0\n",
       "..        ...\n",
       "886         0\n",
       "887         1\n",
       "888         0\n",
       "889         1\n",
       "890         0\n",
       "\n",
       "[891 rows x 1 columns]"
      ]
     },
     "execution_count": 20,
     "metadata": {},
     "output_type": "execute_result"
    }
   ],
   "source": [
    "labels()"
   ]
  },
  {
   "cell_type": "code",
   "execution_count": null,
   "id": "b339629e",
   "metadata": {},
   "outputs": [],
   "source": []
  },
  {
   "cell_type": "code",
   "execution_count": 21,
   "id": "21ed74c3",
   "metadata": {
    "scrolled": true
   },
   "outputs": [
    {
     "data": {
      "text/plain": [
       "{'Sex': {'male': 0, 'female': 1}, 'Embarked': {'S': 0, 'C': 1, 'Q': 2, nan: 3}}"
      ]
     },
     "execution_count": 21,
     "metadata": {},
     "output_type": "execute_result"
    }
   ],
   "source": [
    "class_to_idx = {}\n",
    "idx_to_class = {}\n",
    "for key in unique_vals:\n",
    "    if isinstance(unique_vals[key][0], str):\n",
    "        num_classes = len(unique_vals[key])\n",
    "        class_to_idx[key] = {unique_vals[key][idx]:idx for idx in range(num_classes)}\n",
    "        idx_to_class[key] = {idx: unique_vals[key][idx] for idx in range(num_classes)}\n",
    "        # one_hot = torch.nn.functional.one_hot(torch.arange(0,num_classes)).float()\n",
    "        # one_hot_encodings[key] = one_hot\n",
    "class_to_idx"
   ]
  },
  {
   "cell_type": "code",
   "execution_count": 22,
   "id": "a0ebdaaf",
   "metadata": {},
   "outputs": [
    {
     "data": {
      "text/plain": [
       "{'Sex': {0: 'male', 1: 'female'}, 'Embarked': {0: 'S', 1: 'C', 2: 'Q', 3: nan}}"
      ]
     },
     "execution_count": 22,
     "metadata": {},
     "output_type": "execute_result"
    }
   ],
   "source": [
    "idx_to_class"
   ]
  },
  {
   "cell_type": "code",
   "execution_count": 23,
   "id": "43caecfe",
   "metadata": {},
   "outputs": [
    {
     "data": {
      "text/html": [
       "<div>\n",
       "<style scoped>\n",
       "    .dataframe tbody tr th:only-of-type {\n",
       "        vertical-align: middle;\n",
       "    }\n",
       "\n",
       "    .dataframe tbody tr th {\n",
       "        vertical-align: top;\n",
       "    }\n",
       "\n",
       "    .dataframe thead th {\n",
       "        text-align: right;\n",
       "    }\n",
       "</style>\n",
       "<table border=\"1\" class=\"dataframe\">\n",
       "  <thead>\n",
       "    <tr style=\"text-align: right;\">\n",
       "      <th></th>\n",
       "      <th>PassengerId</th>\n",
       "      <th>Survived</th>\n",
       "      <th>Pclass</th>\n",
       "      <th>Sex</th>\n",
       "      <th>Age</th>\n",
       "      <th>SibSp</th>\n",
       "      <th>Parch</th>\n",
       "      <th>Fare</th>\n",
       "      <th>Cabin</th>\n",
       "      <th>Embarked</th>\n",
       "    </tr>\n",
       "  </thead>\n",
       "  <tbody>\n",
       "    <tr>\n",
       "      <th>0</th>\n",
       "      <td>1</td>\n",
       "      <td>0</td>\n",
       "      <td>3</td>\n",
       "      <td>0</td>\n",
       "      <td>22.0</td>\n",
       "      <td>1</td>\n",
       "      <td>0</td>\n",
       "      <td>7.2500</td>\n",
       "      <td>NaN</td>\n",
       "      <td>0</td>\n",
       "    </tr>\n",
       "    <tr>\n",
       "      <th>1</th>\n",
       "      <td>2</td>\n",
       "      <td>1</td>\n",
       "      <td>1</td>\n",
       "      <td>1</td>\n",
       "      <td>38.0</td>\n",
       "      <td>1</td>\n",
       "      <td>0</td>\n",
       "      <td>71.2833</td>\n",
       "      <td>C85</td>\n",
       "      <td>1</td>\n",
       "    </tr>\n",
       "    <tr>\n",
       "      <th>2</th>\n",
       "      <td>3</td>\n",
       "      <td>1</td>\n",
       "      <td>3</td>\n",
       "      <td>1</td>\n",
       "      <td>26.0</td>\n",
       "      <td>0</td>\n",
       "      <td>0</td>\n",
       "      <td>7.9250</td>\n",
       "      <td>NaN</td>\n",
       "      <td>0</td>\n",
       "    </tr>\n",
       "    <tr>\n",
       "      <th>3</th>\n",
       "      <td>4</td>\n",
       "      <td>1</td>\n",
       "      <td>1</td>\n",
       "      <td>1</td>\n",
       "      <td>35.0</td>\n",
       "      <td>1</td>\n",
       "      <td>0</td>\n",
       "      <td>53.1000</td>\n",
       "      <td>C123</td>\n",
       "      <td>0</td>\n",
       "    </tr>\n",
       "    <tr>\n",
       "      <th>4</th>\n",
       "      <td>5</td>\n",
       "      <td>0</td>\n",
       "      <td>3</td>\n",
       "      <td>0</td>\n",
       "      <td>35.0</td>\n",
       "      <td>0</td>\n",
       "      <td>0</td>\n",
       "      <td>8.0500</td>\n",
       "      <td>NaN</td>\n",
       "      <td>0</td>\n",
       "    </tr>\n",
       "    <tr>\n",
       "      <th>...</th>\n",
       "      <td>...</td>\n",
       "      <td>...</td>\n",
       "      <td>...</td>\n",
       "      <td>...</td>\n",
       "      <td>...</td>\n",
       "      <td>...</td>\n",
       "      <td>...</td>\n",
       "      <td>...</td>\n",
       "      <td>...</td>\n",
       "      <td>...</td>\n",
       "    </tr>\n",
       "    <tr>\n",
       "      <th>886</th>\n",
       "      <td>887</td>\n",
       "      <td>0</td>\n",
       "      <td>2</td>\n",
       "      <td>0</td>\n",
       "      <td>27.0</td>\n",
       "      <td>0</td>\n",
       "      <td>0</td>\n",
       "      <td>13.0000</td>\n",
       "      <td>NaN</td>\n",
       "      <td>0</td>\n",
       "    </tr>\n",
       "    <tr>\n",
       "      <th>887</th>\n",
       "      <td>888</td>\n",
       "      <td>1</td>\n",
       "      <td>1</td>\n",
       "      <td>1</td>\n",
       "      <td>19.0</td>\n",
       "      <td>0</td>\n",
       "      <td>0</td>\n",
       "      <td>30.0000</td>\n",
       "      <td>B42</td>\n",
       "      <td>0</td>\n",
       "    </tr>\n",
       "    <tr>\n",
       "      <th>888</th>\n",
       "      <td>889</td>\n",
       "      <td>0</td>\n",
       "      <td>3</td>\n",
       "      <td>1</td>\n",
       "      <td>NaN</td>\n",
       "      <td>1</td>\n",
       "      <td>2</td>\n",
       "      <td>23.4500</td>\n",
       "      <td>NaN</td>\n",
       "      <td>0</td>\n",
       "    </tr>\n",
       "    <tr>\n",
       "      <th>889</th>\n",
       "      <td>890</td>\n",
       "      <td>1</td>\n",
       "      <td>1</td>\n",
       "      <td>0</td>\n",
       "      <td>26.0</td>\n",
       "      <td>0</td>\n",
       "      <td>0</td>\n",
       "      <td>30.0000</td>\n",
       "      <td>C148</td>\n",
       "      <td>1</td>\n",
       "    </tr>\n",
       "    <tr>\n",
       "      <th>890</th>\n",
       "      <td>891</td>\n",
       "      <td>0</td>\n",
       "      <td>3</td>\n",
       "      <td>0</td>\n",
       "      <td>32.0</td>\n",
       "      <td>0</td>\n",
       "      <td>0</td>\n",
       "      <td>7.7500</td>\n",
       "      <td>NaN</td>\n",
       "      <td>2</td>\n",
       "    </tr>\n",
       "  </tbody>\n",
       "</table>\n",
       "<p>891 rows × 10 columns</p>\n",
       "</div>"
      ],
      "text/plain": [
       "     PassengerId  Survived  Pclass  Sex   Age  SibSp  Parch     Fare Cabin  \\\n",
       "0              1         0       3    0  22.0      1      0   7.2500   NaN   \n",
       "1              2         1       1    1  38.0      1      0  71.2833   C85   \n",
       "2              3         1       3    1  26.0      0      0   7.9250   NaN   \n",
       "3              4         1       1    1  35.0      1      0  53.1000  C123   \n",
       "4              5         0       3    0  35.0      0      0   8.0500   NaN   \n",
       "..           ...       ...     ...  ...   ...    ...    ...      ...   ...   \n",
       "886          887         0       2    0  27.0      0      0  13.0000   NaN   \n",
       "887          888         1       1    1  19.0      0      0  30.0000   B42   \n",
       "888          889         0       3    1   NaN      1      2  23.4500   NaN   \n",
       "889          890         1       1    0  26.0      0      0  30.0000  C148   \n",
       "890          891         0       3    0  32.0      0      0   7.7500   NaN   \n",
       "\n",
       "     Embarked  \n",
       "0           0  \n",
       "1           1  \n",
       "2           0  \n",
       "3           0  \n",
       "4           0  \n",
       "..        ...  \n",
       "886         0  \n",
       "887         0  \n",
       "888         0  \n",
       "889         1  \n",
       "890         2  \n",
       "\n",
       "[891 rows x 10 columns]"
      ]
     },
     "execution_count": 23,
     "metadata": {},
     "output_type": "execute_result"
    }
   ],
   "source": [
    "for key in class_to_idx:\n",
    "    df[key] = df[key].map(class_to_idx[key])\n",
    "df"
   ]
  },
  {
   "cell_type": "code",
   "execution_count": 24,
   "id": "a749e97f",
   "metadata": {},
   "outputs": [],
   "source": [
    "### Information Gain - Classification\n",
    "\n",
    "def entropy(probs):\n",
    "    entropy = 0.\n",
    "    for prob in probs:\n",
    "        entropy -= (prob)*np.log2(prob) if prob > 0 else 0.\n",
    "    return entropy\n",
    "\n",
    "\n",
    "def compute_probs(values: list,\n",
    "                  tar_vals: list,\n",
    "                  df: pd.DataFrame,\n",
    "                  col_idx: str,\n",
    "                  tar_idx: str,\n",
    "                  ):\n",
    "    counts = []\n",
    "    for val in values:\n",
    "        tar_counts = []\n",
    "        for tar_val in tar_vals:\n",
    "            tar_counts.append(len(df[(df[col_idx]==val) & (df[tar_idx]==tar_val)]))\n",
    "        counts.append(tar_counts)\n",
    "    probs = []\n",
    "    for val_count in counts:\n",
    "        probs.append([v / sum(val_count) for v in val_count])\n",
    "    return probs, counts\n",
    "\n",
    "\n",
    "def bucket_probs(tar_values: list,\n",
    "                 df: pd.DataFrame,\n",
    "                 col_idx: str,\n",
    "                 num_buckets: int = 2,\n",
    "                 ):\n",
    "    # num_buckets == 2, average split\n",
    "    data = df.dropna(subset=[col_idx])\n",
    "    counts = []\n",
    "    if num_buckets == 2:\n",
    "        split_vals = [data[col_idx].min(),data[col_idx].mean()] # ,data[col_idx].max()\n",
    "    else:\n",
    "        split_vals = [] # split into n buckets\n",
    "    for val0,val1 in zip(split_vals[:-1],split_vals[1:]):\n",
    "        tar_counts = []\n",
    "        for val in tar_values:\n",
    "            tar_counts.append(len(data[data[col_idx].between(val0,val1)==val]))\n",
    "        counts.append(tar_counts)\n",
    "    probs = []\n",
    "    for val_count in counts:\n",
    "        probs.append([v / sum(val_count) for v in val_count])\n",
    "    return probs, counts, split_vals\n",
    "\n",
    "\n",
    "def information_gain(df: pd.DataFrame,\n",
    "                     split_idx: int,\n",
    "                     tar_idx: int,\n",
    "                     max_split_nodes: int = 5,\n",
    "                     ):\n",
    "    data_num = df[tar_idx].count()\n",
    "    # parent entropy\n",
    "    tar_vals = df[tar_idx].unique()\n",
    "    if len(tar_vals) <= max_split_nodes:\n",
    "        counts = []\n",
    "        for val in tar_vals:\n",
    "            tar_probs = counts.append(len(df[df[tar_idx]==val]))\n",
    "        tar_probs = counts / data_num\n",
    "    else: # for regression, we can take the average or bucket  \n",
    "        pass\n",
    "    parent_entropy = entropy(tar_probs) # find int to column map in pandas\n",
    "    # compute split entropies\n",
    "    split_vals = df[split_idx].unique()\n",
    "    if len(split_vals) <= max_split_nodes:\n",
    "        # print(f'raw count for {split_idx}...')\n",
    "        split_probs, split_counts = compute_probs(values=split_vals,\n",
    "                                                  tar_vals=tar_vals,  \n",
    "                                                  df=df, \n",
    "                                                  col_idx=split_idx,\n",
    "                                                  tar_idx=tar_idx,\n",
    "                                                  )\n",
    "    else: # for regression, we can take the average or bucket for 'val'\n",
    "        # print(f'bucket count for {split_idx}...')\n",
    "        split_probs, split_counts, split_vals = bucket_probs(tar_values=tar_vals,\n",
    "                                                             df=df,\n",
    "                                                             col_idx=split_idx,\n",
    "                                                             num_buckets=2,\n",
    "                                                             )\n",
    "    split_entropy = 0.\n",
    "    for idx, prob in enumerate(split_probs):\n",
    "        split_entropy += entropy(prob) * (sum(split_counts[idx]) / data_num)\n",
    "    # information gain\n",
    "    # print(f'#####\\nparent entropy: {parent_entropy}\\nsplit entropy: {split_entropy}')\n",
    "    return parent_entropy - split_entropy, split_vals"
   ]
  },
  {
   "cell_type": "code",
   "execution_count": 93,
   "id": "3e784112",
   "metadata": {},
   "outputs": [],
   "source": [
    "def best_split(df: pd.DataFrame,\n",
    "               goal_label: str,\n",
    "               ):\n",
    "    best_col = ''\n",
    "    best_ig = 0.\n",
    "    best_split_vals = []\n",
    "    for col in df.columns:\n",
    "        if col not in [goal_label,'PassengerId','Cabin']:\n",
    "            ig, split_vals = information_gain(df=df, split_idx=col, tar_idx=goal_label)\n",
    "            if ig > best_ig:\n",
    "                best_ig = ig\n",
    "                best_col = col\n",
    "                best_split_vals = split_vals\n",
    "            # print(f\"{col+' information gain:':35} {ig:.5f}\")\n",
    "    return best_col, np.sort(best_split_vals)"
   ]
  },
  {
   "cell_type": "code",
   "execution_count": 94,
   "id": "37561359",
   "metadata": {},
   "outputs": [],
   "source": [
    "### Gini Index\n",
    "\n",
    "def gini(probs):\n",
    "    gini = 0.\n",
    "    for prob in probs:\n",
    "        gini -= prob**2\n",
    "    return 1-gini\n",
    "\n"
   ]
  },
  {
   "cell_type": "code",
   "execution_count": 95,
   "id": "17e5d806",
   "metadata": {},
   "outputs": [],
   "source": [
    "class Node:\n",
    "    def __init__(self, \n",
    "                 node_idxs: list,\n",
    "                 prev_depth: int = 0,\n",
    "                 split_idx: int = 0,\n",
    "                 split_vals: tuple = None,\n",
    "                 is_terminal: bool = False,\n",
    "                 ):\n",
    "        self.split_idx = split_idx\n",
    "        self.split_vals = split_vals\n",
    "        self.node_idxs = node_idxs\n",
    "        self.children = []\n",
    "        self.depth = prev_depth+1\n",
    "        self.is_terminal = is_terminal\n"
   ]
  },
  {
   "cell_type": "code",
   "execution_count": 102,
   "id": "1a9c868d",
   "metadata": {},
   "outputs": [],
   "source": [
    "class DecisionTree:\n",
    "    def __init__(self,\n",
    "                 data: pd.DataFrame,\n",
    "                 goal_label: str, \n",
    "                 max_depth: int = 5,\n",
    "                 min_feats: int = 10,\n",
    "                 num_class: int = 0,\n",
    "                 ):\n",
    "        all_idxs = np.array(range(len(data)))\n",
    "        self.root = Node(node_idxs=all_idxs)\n",
    "        self.max_depth = max_depth\n",
    "        \n",
    "        self.min_feats = min_feats\n",
    "        self.num_class = num_class\n",
    "\n",
    "        self.goal_label = goal_label\n",
    "\n",
    "        self.grow_tree(data=data,\n",
    "                       )\n",
    "    \n",
    "    def grow_tree(self, \n",
    "                  data: pd.DataFrame,\n",
    "                  ):\n",
    "        # node_queue = [self.root]\n",
    "        # while len(node_queue) > 0:\n",
    "        self.split_node(node=self.root,\n",
    "                        data=data,\n",
    "                        )\n",
    "        \n",
    "\n",
    "    def split_node(self,\n",
    "                   node: Node,\n",
    "                   data: pd.DataFrame,\n",
    "                   ):\n",
    "        # print(node.split_idx, len(node.node_idxs))\n",
    "        \n",
    "        curr_node = node if node else self.root\n",
    "        if curr_node.depth >= self.max_depth:\n",
    "            curr_node.is_terminal = True\n",
    "            # print('Reached maximum depth!')\n",
    "            return\n",
    "        \n",
    "        if len(curr_node.node_idxs) < self.min_feats:\n",
    "            curr_node.is_terminal = True\n",
    "            # print('Not enough data features to split node!')\n",
    "            return\n",
    "            \n",
    "        node_data = data.iloc[curr_node.node_idxs]\n",
    "        \n",
    "        split_col, split_vals = best_split(df=node_data,\n",
    "                                           goal_label=self.goal_label,\n",
    "                                           )\n",
    "        \n",
    "        # print(split_col, split_vals)\n",
    "        for val0,val1 in zip(split_vals[:],np.append(split_vals[1:],split_vals[-1]+1e-6)):\n",
    "            data_idxs = data[data[split_col].between(val0,val1,inclusive='left')].index.to_numpy()\n",
    "            child = Node(split_idx=split_col,\n",
    "                         split_vals=(val0,val1),\n",
    "                         prev_depth=curr_node.depth,\n",
    "                         node_idxs=data_idxs,\n",
    "                         )\n",
    "            curr_node.children.append(child)\n",
    "            \n",
    "            # child_data = data.iloc[data_idxs]\n",
    "            self.split_node(child,\n",
    "                            data.drop([split_col], axis=1), #child_data,\n",
    "                            )\n",
    "            # print('next child...')\n",
    "        \n",
    "    def enumerate(self):\n",
    "        nodes = [ self.root ]\n",
    "        while len(nodes) > 0:\n",
    "            node = nodes.pop(0)\n",
    "            # print(f\"{' '*node.depth}[{node.split_idx}] - [{node.split_vals}]\")\n",
    "            if not node.is_terminal:\n",
    "                print(f\"{' '*node.depth}[{node.split_idx}] - [{node.split_vals}]\")\n",
    "                for child in node.children[::-1]:\n",
    "                    nodes.insert(0,child)\n",
    "            else:\n",
    "                print(f\"{' '*node.depth}[{node.split_idx}] (terminal) - [{node.split_vals}]\")\n"
   ]
  },
  {
   "cell_type": "code",
   "execution_count": 107,
   "id": "adcb113e",
   "metadata": {},
   "outputs": [],
   "source": [
    "dt = DecisionTree(data=df,\n",
    "                  goal_label=goal_label,\n",
    "                  max_depth=4,\n",
    "                  min_feats=50,\n",
    "                  )"
   ]
  },
  {
   "cell_type": "code",
   "execution_count": 108,
   "id": "e099706e",
   "metadata": {},
   "outputs": [
    {
     "name": "stdout",
     "output_type": "stream",
     "text": [
      " [0] - [None]\n",
      "  [Sex] - [(0, 1.0)]\n",
      "   [Parch] - [(0.0, 0.23570190641247835)]\n",
      "    [Age] (terminal) - [(5.0, 32.17850287907869)]\n",
      "    [Age] (terminal) - [(32.17850287907869, 32.17850387907869)]\n",
      "   [Parch] (terminal) - [(0.23570190641247835, 0.23570290641247835)]\n",
      "  [Sex] - [(1, 1.000001)]\n",
      "   [Pclass] - [(1, 2.0)]\n",
      "    [Age] (terminal) - [(0.92, 38.233440860215055)]\n",
      "    [Age] (terminal) - [(38.233440860215055, 38.23344186021505)]\n",
      "   [Pclass] - [(2, 3.0)]\n",
      "    [Parch] (terminal) - [(0, 1.0)]\n",
      "    [Parch] (terminal) - [(1, 2.0)]\n",
      "    [Parch] (terminal) - [(2, 3.0)]\n",
      "    [Parch] (terminal) - [(3, 3.000001)]\n",
      "   [Pclass] - [(3, 3.000001)]\n",
      "    [Age] (terminal) - [(0.42, 25.14061971830986)]\n",
      "    [Age] (terminal) - [(25.14061971830986, 25.14062071830986)]\n"
     ]
    }
   ],
   "source": [
    "dt.enumerate()"
   ]
  },
  {
   "cell_type": "code",
   "execution_count": 56,
   "id": "e5051e79",
   "metadata": {},
   "outputs": [
    {
     "data": {
      "text/plain": [
       "array([1, 2, 3, 4])"
      ]
     },
     "execution_count": 56,
     "metadata": {},
     "output_type": "execute_result"
    }
   ],
   "source": [
    "np.append(np.array([1,2,3]),4)"
   ]
  },
  {
   "cell_type": "code",
   "execution_count": null,
   "id": "273f04c3",
   "metadata": {},
   "outputs": [],
   "source": []
  },
  {
   "cell_type": "code",
   "execution_count": null,
   "id": "797d4112",
   "metadata": {},
   "outputs": [],
   "source": []
  },
  {
   "cell_type": "code",
   "execution_count": null,
   "id": "181b0a7d",
   "metadata": {},
   "outputs": [],
   "source": [
    "from sklearn import tree\n",
    "classifier = tree.DecisionTreeClassifier()"
   ]
  },
  {
   "cell_type": "code",
   "execution_count": null,
   "id": "14edf2a3",
   "metadata": {},
   "outputs": [],
   "source": [
    "X = df[['Age','Sex','BP','Cholesterol','Na_to_K']]\n",
    "Y = df[['Drug']]"
   ]
  },
  {
   "cell_type": "code",
   "execution_count": null,
   "id": "468f3a40",
   "metadata": {},
   "outputs": [],
   "source": [
    "classifier = classifier.fit(X,Y)"
   ]
  },
  {
   "cell_type": "code",
   "execution_count": null,
   "id": "3d8c8450",
   "metadata": {},
   "outputs": [
    {
     "data": {
      "text/plain": [
       "['DrugY', 'drugC', 'drugC']"
      ]
     },
     "execution_count": 75,
     "metadata": {},
     "output_type": "execute_result"
    }
   ],
   "source": [
    "[idx_to_class['Drug'][idx] for idx in classifier.predict(X.iloc[0:3])]"
   ]
  },
  {
   "cell_type": "code",
   "execution_count": null,
   "id": "538cb17a",
   "metadata": {},
   "outputs": [
    {
     "data": {
      "text/html": [
       "<div>\n",
       "<style scoped>\n",
       "    .dataframe tbody tr th:only-of-type {\n",
       "        vertical-align: middle;\n",
       "    }\n",
       "\n",
       "    .dataframe tbody tr th {\n",
       "        vertical-align: top;\n",
       "    }\n",
       "\n",
       "    .dataframe thead th {\n",
       "        text-align: right;\n",
       "    }\n",
       "</style>\n",
       "<table border=\"1\" class=\"dataframe\">\n",
       "  <thead>\n",
       "    <tr style=\"text-align: right;\">\n",
       "      <th></th>\n",
       "      <th>Drug</th>\n",
       "    </tr>\n",
       "  </thead>\n",
       "  <tbody>\n",
       "    <tr>\n",
       "      <th>0</th>\n",
       "      <td>DrugY</td>\n",
       "    </tr>\n",
       "    <tr>\n",
       "      <th>1</th>\n",
       "      <td>drugC</td>\n",
       "    </tr>\n",
       "    <tr>\n",
       "      <th>2</th>\n",
       "      <td>drugC</td>\n",
       "    </tr>\n",
       "  </tbody>\n",
       "</table>\n",
       "</div>"
      ],
      "text/plain": [
       "    Drug\n",
       "0  DrugY\n",
       "1  drugC\n",
       "2  drugC"
      ]
     },
     "execution_count": 76,
     "metadata": {},
     "output_type": "execute_result"
    }
   ],
   "source": [
    "labels().iloc[0:3]"
   ]
  },
  {
   "cell_type": "code",
   "execution_count": null,
   "metadata": {},
   "outputs": [
    {
     "data": {
      "text/plain": [
       "{'Sex': {0: 'F', 1: 'M'},\n",
       " 'BP': {0: 'HIGH', 1: 'LOW', 2: 'NORMAL'},\n",
       " 'Cholesterol': {0: 'HIGH', 1: 'NORMAL'},\n",
       " 'Drug': {0: 'DrugY', 1: 'drugC', 2: 'drugX', 3: 'drugA', 4: 'drugB'}}"
      ]
     },
     "execution_count": 77,
     "metadata": {},
     "output_type": "execute_result"
    }
   ],
   "source": [
    "idx_to_class"
   ]
  }
 ],
 "metadata": {
  "interpreter": {
   "hash": "916dbcbb3f70747c44a77c7bcd40155683ae19c65e1c03b4aa3499c5328201f1"
  },
  "kernelspec": {
   "display_name": "Python 3.8.10 64-bit",
   "name": "python3"
  },
  "language_info": {
   "codemirror_mode": {
    "name": "ipython",
    "version": 3
   },
   "file_extension": ".py",
   "mimetype": "text/x-python",
   "name": "python",
   "nbconvert_exporter": "python",
   "pygments_lexer": "ipython3",
   "version": "3.8.10"
  }
 },
 "nbformat": 4,
 "nbformat_minor": 5
}
